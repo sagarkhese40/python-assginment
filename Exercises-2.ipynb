{
 "cells": [
  {
   "cell_type": "code",
   "execution_count": 5,
   "metadata": {},
   "outputs": [],
   "source": [
    "%matplotlib inline\n",
    "import pandas as pd\n",
    "import matplotlib.pyplot as plt\n",
    "import seaborn as sns"
   ]
  },
  {
   "cell_type": "code",
   "execution_count": 7,
   "metadata": {},
   "outputs": [
    {
     "data": {
      "text/html": [
       "<div>\n",
       "<style scoped>\n",
       "    .dataframe tbody tr th:only-of-type {\n",
       "        vertical-align: middle;\n",
       "    }\n",
       "\n",
       "    .dataframe tbody tr th {\n",
       "        vertical-align: top;\n",
       "    }\n",
       "\n",
       "    .dataframe thead th {\n",
       "        text-align: right;\n",
       "    }\n",
       "</style>\n",
       "<table border=\"1\" class=\"dataframe\">\n",
       "  <thead>\n",
       "    <tr style=\"text-align: right;\">\n",
       "      <th></th>\n",
       "      <th>title</th>\n",
       "      <th>year</th>\n",
       "    </tr>\n",
       "  </thead>\n",
       "  <tbody>\n",
       "    <tr>\n",
       "      <th>0</th>\n",
       "      <td>The Rising Son</td>\n",
       "      <td>1990</td>\n",
       "    </tr>\n",
       "    <tr>\n",
       "      <th>1</th>\n",
       "      <td>The Thousand Plane Raid</td>\n",
       "      <td>1969</td>\n",
       "    </tr>\n",
       "    <tr>\n",
       "      <th>2</th>\n",
       "      <td>Crucea de piatra</td>\n",
       "      <td>1993</td>\n",
       "    </tr>\n",
       "    <tr>\n",
       "      <th>3</th>\n",
       "      <td>Country</td>\n",
       "      <td>2000</td>\n",
       "    </tr>\n",
       "    <tr>\n",
       "      <th>4</th>\n",
       "      <td>Gaiking II</td>\n",
       "      <td>2011</td>\n",
       "    </tr>\n",
       "  </tbody>\n",
       "</table>\n",
       "</div>"
      ],
      "text/plain": [
       "                     title  year\n",
       "0           The Rising Son  1990\n",
       "1  The Thousand Plane Raid  1969\n",
       "2         Crucea de piatra  1993\n",
       "3                  Country  2000\n",
       "4               Gaiking II  2011"
      ]
     },
     "execution_count": 7,
     "metadata": {},
     "output_type": "execute_result"
    }
   ],
   "source": [
    "titles = pd.read_csv('D:/dataset/titles.csv')\n",
    "titles.head()"
   ]
  },
  {
   "cell_type": "code",
   "execution_count": 9,
   "metadata": {
    "scrolled": true
   },
   "outputs": [
    {
     "data": {
      "text/html": [
       "<div>\n",
       "<style scoped>\n",
       "    .dataframe tbody tr th:only-of-type {\n",
       "        vertical-align: middle;\n",
       "    }\n",
       "\n",
       "    .dataframe tbody tr th {\n",
       "        vertical-align: top;\n",
       "    }\n",
       "\n",
       "    .dataframe thead th {\n",
       "        text-align: right;\n",
       "    }\n",
       "</style>\n",
       "<table border=\"1\" class=\"dataframe\">\n",
       "  <thead>\n",
       "    <tr style=\"text-align: right;\">\n",
       "      <th></th>\n",
       "      <th>title</th>\n",
       "      <th>year</th>\n",
       "      <th>name</th>\n",
       "      <th>type</th>\n",
       "      <th>character</th>\n",
       "      <th>n</th>\n",
       "    </tr>\n",
       "  </thead>\n",
       "  <tbody>\n",
       "    <tr>\n",
       "      <th>0</th>\n",
       "      <td>Closet Monster</td>\n",
       "      <td>2015.0</td>\n",
       "      <td>Buffy #1</td>\n",
       "      <td>actor</td>\n",
       "      <td>Buffy 4</td>\n",
       "      <td>NaN</td>\n",
       "    </tr>\n",
       "    <tr>\n",
       "      <th>1</th>\n",
       "      <td>Suuri illusioni</td>\n",
       "      <td>1985.0</td>\n",
       "      <td>Homo $</td>\n",
       "      <td>actor</td>\n",
       "      <td>Guests</td>\n",
       "      <td>22.0</td>\n",
       "    </tr>\n",
       "    <tr>\n",
       "      <th>2</th>\n",
       "      <td>Battle of the Sexes</td>\n",
       "      <td>2017.0</td>\n",
       "      <td>$hutter</td>\n",
       "      <td>actor</td>\n",
       "      <td>Bobby Riggs Fan</td>\n",
       "      <td>10.0</td>\n",
       "    </tr>\n",
       "    <tr>\n",
       "      <th>3</th>\n",
       "      <td>Secret in Their Eyes</td>\n",
       "      <td>2015.0</td>\n",
       "      <td>$hutter</td>\n",
       "      <td>actor</td>\n",
       "      <td>2002 Dodger Fan</td>\n",
       "      <td>NaN</td>\n",
       "    </tr>\n",
       "    <tr>\n",
       "      <th>4</th>\n",
       "      <td>Steve Jobs</td>\n",
       "      <td>2015.0</td>\n",
       "      <td>$hutter</td>\n",
       "      <td>actor</td>\n",
       "      <td>1988 Opera House Patron</td>\n",
       "      <td>NaN</td>\n",
       "    </tr>\n",
       "  </tbody>\n",
       "</table>\n",
       "</div>"
      ],
      "text/plain": [
       "                  title    year      name   type                character  \\\n",
       "0        Closet Monster  2015.0  Buffy #1  actor                  Buffy 4   \n",
       "1       Suuri illusioni  1985.0    Homo $  actor                   Guests   \n",
       "2   Battle of the Sexes  2017.0   $hutter  actor          Bobby Riggs Fan   \n",
       "3  Secret in Their Eyes  2015.0   $hutter  actor          2002 Dodger Fan   \n",
       "4            Steve Jobs  2015.0   $hutter  actor  1988 Opera House Patron   \n",
       "\n",
       "      n  \n",
       "0   NaN  \n",
       "1  22.0  \n",
       "2  10.0  \n",
       "3   NaN  \n",
       "4   NaN  "
      ]
     },
     "execution_count": 9,
     "metadata": {},
     "output_type": "execute_result"
    }
   ],
   "source": [
    "cast = pd.read_csv('D:/Lecture file/17th lec 23 feb/File/cast.csv')\n",
    "cast.head()\n"
   ]
  },
  {
   "cell_type": "markdown",
   "metadata": {
    "collapsed": true,
    "jupyter": {
     "outputs_hidden": true
    }
   },
   "source": [
    "### What are the ten most common movie names of all time?"
   ]
  },
  {
   "cell_type": "code",
   "execution_count": 92,
   "metadata": {},
   "outputs": [
    {
     "name": "stdout",
     "output_type": "stream",
     "text": [
      "10 Most common movies name of all time \n",
      " title\n",
      "Around the World in Eighty Days       826\n",
      "The Dark Knight Rises                 355\n",
      "7 cajas                               341\n",
      "The Ten Commandments                  317\n",
      "The Buccaneer                         306\n",
      "King Kong                             294\n",
      "Stuck on You                          271\n",
      "Cockneys vs Zombies                   266\n",
      "The Eschatrilogy: Book of the Dead    256\n",
      "Thelma                                256\n",
      "Name: count, dtype: int64\n"
     ]
    }
   ],
   "source": [
    "movie=cast['title'].value_counts().head(10)\n",
    "print(f\"10 Most common movies name of all time \\n {movie}\")\n",
    "\n"
   ]
  },
  {
   "cell_type": "code",
   "execution_count": null,
   "metadata": {
    "collapsed": true,
    "jupyter": {
     "outputs_hidden": true
    }
   },
   "outputs": [],
   "source": []
  },
  {
   "cell_type": "markdown",
   "metadata": {
    "collapsed": true,
    "jupyter": {
     "outputs_hidden": true
    }
   },
   "source": [
    "### Which three years of the 1930s saw the most films released?"
   ]
  },
  {
   "cell_type": "code",
   "execution_count": 11,
   "metadata": {},
   "outputs": [
    {
     "name": "stdout",
     "output_type": "stream",
     "text": [
      "three years of the 1930s saw the most films released - \n",
      " title                     year\n",
      "$10 Raise                 1935    1\n",
      "She Knew What She Wanted  1936    1\n",
      "She Couldn't Take It      1935    1\n",
      "Name: count, dtype: int64\n"
     ]
    }
   ],
   "source": [
    "movie_year =titles[titles['year']//10*10==1930].value_counts().head(3)\n",
    "print(f\"three years of the 1930s saw the most films released - \\n {movie_year}\")"
   ]
  },
  {
   "cell_type": "code",
   "execution_count": null,
   "metadata": {},
   "outputs": [],
   "source": []
  },
  {
   "cell_type": "markdown",
   "metadata": {
    "collapsed": true,
    "jupyter": {
     "outputs_hidden": true
    }
   },
   "source": [
    "### Plot the number of films that have been released each decade over the history of cinema."
   ]
  },
  {
   "cell_type": "code",
   "execution_count": 30,
   "metadata": {},
   "outputs": [
    {
     "data": {
      "image/png": "[encoded data removed]",
      "text/plain": [
       "<Figure size 1000x500 with 1 Axes>"
      ]
     },
     "metadata": {},
     "output_type": "display_data"
    }
   ],
   "source": [
    "required = ['year']\n",
    "missing = [col for col in required if col not in cast.columns]\n",
    "\n",
    "for col in missing:\n",
    "    print(f\"Required column {col} not found in cast file.\")\n",
    "\n",
    "titles['year'] = pd.to_numeric(titles['year'], errors='coerce')\n",
    "titles= cast.dropna(subset=['year'])\n",
    "\n",
    "decade_counts = ((titles['year'] // 10) * 10).value_counts().sort_index()\n",
    "\n",
    "plt.figure(figsize=(10, 5))\n",
    "plt.xlabel('Year')\n",
    "plt.ylabel('Title')\n",
    "plt.bar(decade_counts.index, decade_counts.values, width=8, color='orange')\n",
    "plt.show()\n",
    "\n"
   ]
  },
  {
   "cell_type": "code",
   "execution_count": null,
   "metadata": {
    "collapsed": true,
    "jupyter": {
     "outputs_hidden": true
    }
   },
   "outputs": [],
   "source": []
  },
  {
   "cell_type": "markdown",
   "metadata": {
    "collapsed": true,
    "jupyter": {
     "outputs_hidden": true
    }
   },
   "source": [
    "### Plot the number of \"Hamlet\" films made each decade."
   ]
  },
  {
   "cell_type": "code",
   "execution_count": 42,
   "metadata": {},
   "outputs": [
    {
     "name": "stderr",
     "output_type": "stream",
     "text": [
      "C:\\Users\\ZORO\\AppData\\Local\\Temp\\ipykernel_6524\\3024003668.py:7: SettingWithCopyWarning: \n",
      "A value is trying to be set on a copy of a slice from a DataFrame.\n",
      "Try using .loc[row_indexer,col_indexer] = value instead\n",
      "\n",
      "See the caveats in the documentation: https://pandas.pydata.org/pandas-docs/stable/user_guide/indexing.html#returning-a-view-versus-a-copy\n",
      "  hamlet['decade'] = ((hamlet['year'] // 10) * 10).value_counts().sort_index()\n"
     ]
    },
    {
     "data": {
      "image/png": "[encoded data removed]",
      "text/plain": [
       "<Figure size 1000x500 with 1 Axes>"
      ]
     },
     "metadata": {},
     "output_type": "display_data"
    }
   ],
   "source": [
    "cast['year'] = pd.to_numeric(cast['year'], errors='coerce')\n",
    "cast = cast.dropna(subset=['year'])\n",
    "\n",
    "hamlet = cast[cast['title'].str.lower() == 'hamlet']\n",
    "\n",
    "hamlet['decade'] = ((hamlet['year'] // 10) * 10).value_counts().sort_index()\n",
    "\n",
    "plt.figure(figsize=(10, 5))\n",
    "plt.xlabel('Year')\n",
    "plt.ylabel('Number of Hamlet Films')\n",
    "plt.title('Number of \"Hamlet\" Films Made Each Decade')\n",
    "plt.bar(decade_counts.index, decade_counts.values, width=8, color='blue')\n",
    "\n",
    "plt.show()"
   ]
  },
  {
   "cell_type": "code",
   "execution_count": null,
   "metadata": {},
   "outputs": [],
   "source": []
  },
  {
   "cell_type": "markdown",
   "metadata": {
    "collapsed": true,
    "jupyter": {
     "outputs_hidden": true
    }
   },
   "source": [
    "### Plot the number of \"Rustler\" characters in each decade of the history of film."
   ]
  },
  {
   "cell_type": "code",
   "execution_count": 44,
   "metadata": {},
   "outputs": [
    {
     "data": {
      "image/png": "[encoded data removed]",
      "text/plain": [
       "<Figure size 1000x500 with 1 Axes>"
      ]
     },
     "metadata": {},
     "output_type": "display_data"
    }
   ],
   "source": [
    "cast['year'] = pd.to_numeric(cast['year'], errors='coerce')\n",
    "cast = cast.dropna(subset=['year'])\n",
    "\n",
    "rustler = cast[cast['title'].str.lower() == 'rustler']\n",
    "rustler['decade'] = ((rustler['year'] // 10) * 10).value_counts().sort_index()\n",
    "\n",
    "plt.figure(figsize=(10, 5))\n",
    "plt.xlabel('Year')\n",
    "plt.ylabel('Number of Rustler Films')\n",
    "plt.title('Number of \"Rustler\" Films Made Each Decade')\n",
    "plt.bar(decade_counts.index, decade_counts.values, width=8, color='red')\n",
    "\n",
    "plt.show()"
   ]
  },
  {
   "cell_type": "code",
   "execution_count": null,
   "metadata": {
    "collapsed": true,
    "jupyter": {
     "outputs_hidden": true
    }
   },
   "outputs": [],
   "source": []
  },
  {
   "cell_type": "markdown",
   "metadata": {
    "collapsed": true,
    "jupyter": {
     "outputs_hidden": true
    }
   },
   "source": [
    "### Plot the number of \"Hamlet\" characters each decade."
   ]
  },
  {
   "cell_type": "code",
   "execution_count": 48,
   "metadata": {},
   "outputs": [
    {
     "name": "stderr",
     "output_type": "stream",
     "text": [
      "C:\\Users\\ZORO\\AppData\\Local\\Temp\\ipykernel_6524\\1802559567.py:6: SettingWithCopyWarning: \n",
      "A value is trying to be set on a copy of a slice from a DataFrame.\n",
      "Try using .loc[row_indexer,col_indexer] = value instead\n",
      "\n",
      "See the caveats in the documentation: https://pandas.pydata.org/pandas-docs/stable/user_guide/indexing.html#returning-a-view-versus-a-copy\n",
      "  hamlet_characters['decade'] = ((hamlet_characters['year'] // 10) * 10).value_counts().sort_index()\n"
     ]
    },
    {
     "data": {
      "image/png": "[encoded data removed]",
      "text/plain": [
       "<Figure size 1000x500 with 1 Axes>"
      ]
     },
     "metadata": {},
     "output_type": "display_data"
    }
   ],
   "source": [
    "cast['year'] = pd.to_numeric(cast['year'], errors='coerce')\n",
    "cast = cast.dropna(subset=['year'])\n",
    "\n",
    "hamlet_characters = cast[cast['character'].str.lower() == 'hamlet']\n",
    "\n",
    "hamlet_characters['decade'] = ((hamlet_characters['year'] // 10) * 10).value_counts().sort_index()\n",
    "\n",
    "plt.figure(figsize=(10, 5))\n",
    "plt.xlabel('Year')\n",
    "plt.ylabel('Number of Hamlet Characters')\n",
    "plt.title('Number of \"Hamlet\" Characters in Each Decade')\n",
    "plt.bar(decade_counts.index, decade_counts.values, width=8, color='yellow')\n",
    "\n",
    "plt.show()"
   ]
  },
  {
   "cell_type": "code",
   "execution_count": null,
   "metadata": {
    "collapsed": true,
    "jupyter": {
     "outputs_hidden": true
    }
   },
   "outputs": [],
   "source": []
  },
  {
   "cell_type": "markdown",
   "metadata": {
    "collapsed": true,
    "jupyter": {
     "outputs_hidden": true
    }
   },
   "source": [
    "### What are the 11 most common character names in movie history?"
   ]
  },
  {
   "cell_type": "code",
   "execution_count": 115,
   "metadata": {},
   "outputs": [
    {
     "name": "stdout",
     "output_type": "stream",
     "text": [
      "character\n",
      "Himself      17396\n",
      "Policeman     6158\n",
      "Doctor        5922\n",
      "Extra         5625\n",
      "Reporter      5516\n",
      "Townsman      5065\n",
      "Bartender     5055\n",
      "Waiter        4662\n",
      "Henchman      4309\n",
      "Dancer        4110\n",
      "Soldier       3901\n",
      "Name: count, dtype: int64\n"
     ]
    }
   ],
   "source": [
    "movie=cast['character'].value_counts().head(11)\n",
    "print(movie)"
   ]
  },
  {
   "cell_type": "code",
   "execution_count": null,
   "metadata": {
    "collapsed": true,
    "jupyter": {
     "outputs_hidden": true
    }
   },
   "outputs": [],
   "source": []
  },
  {
   "cell_type": "markdown",
   "metadata": {
    "collapsed": true,
    "jupyter": {
     "outputs_hidden": true
    }
   },
   "source": [
    "### Who are the 10 people most often credited as \"Herself\" in film history?"
   ]
  },
  {
   "cell_type": "code",
   "execution_count": 85,
   "metadata": {},
   "outputs": [
    {
     "name": "stdout",
     "output_type": "stream",
     "text": [
      "Top 10 people most often credited as 'Herself' in film history:name\n",
      "Etta Baker           1\n",
      "Rosemari Mealy       1\n",
      "Salsa Katanga        1\n",
      "Bronwyn Kay          1\n",
      "Verlina Kirk         1\n",
      "Swami Kripananda     1\n",
      "Annette Krupnicka    1\n",
      "Darcy Leigh          1\n",
      "Eugenia (II) Le?n    1\n",
      "Shangay Lily         1\n",
      "Name: count, dtype: int64\n"
     ]
    }
   ],
   "source": [
    "movie=cast[cast['character']==\"Herself\"]['name'].value_counts().head(10)\n",
    "print(f\"Top 10 people most often credited as 'Herself' in film history:{movie}\")\n"
   ]
  },
  {
   "cell_type": "code",
   "execution_count": null,
   "metadata": {},
   "outputs": [],
   "source": []
  },
  {
   "cell_type": "markdown",
   "metadata": {
    "collapsed": true,
    "jupyter": {
     "outputs_hidden": true
    }
   },
   "source": [
    "### Who are the 10 people most often credited as \"Himself\" in film history?"
   ]
  },
  {
   "cell_type": "code",
   "execution_count": 99,
   "metadata": {},
   "outputs": [
    {
     "name": "stdout",
     "output_type": "stream",
     "text": [
      "Top 10 people most often credited as 'Herself' in film history:name\n",
      "Adolf Hitler             99\n",
      "Richard Nixon            45\n",
      "Ronald Reagan            39\n",
      "John F. Kennedy          33\n",
      "Winston Churchill        23\n",
      "Ron Jeremy               23\n",
      "George W. Bush           23\n",
      "Benito Mussolini         22\n",
      "Bill Clinton             20\n",
      "Franklin D. Roosevelt    20\n",
      "Name: count, dtype: int64\n"
     ]
    }
   ],
   "source": [
    "movie=cast[cast['character']==\"Himself\"]['name'].value_counts().head(10)\n",
    "print(f\"Top 10 people most often credited as 'Herself' in film history:{movie}\")"
   ]
  },
  {
   "cell_type": "code",
   "execution_count": null,
   "metadata": {
    "collapsed": true,
    "jupyter": {
     "outputs_hidden": true
    }
   },
   "outputs": [],
   "source": []
  },
  {
   "cell_type": "markdown",
   "metadata": {
    "collapsed": true,
    "jupyter": {
     "outputs_hidden": true
    }
   },
   "source": [
    "### Which actors or actresses appeared in the most movies in the year 1945?"
   ]
  },
  {
   "cell_type": "code",
   "execution_count": 103,
   "metadata": {},
   "outputs": [
    {
     "name": "stdout",
     "output_type": "stream",
     "text": [
      "Top actors or actresses who appeared in the most movies in 1945: \n",
      " name\n",
      "Sam (II) Harris     32\n",
      "Harold Miller       29\n",
      "Nolan Leary         27\n",
      "Frank O'Connor      27\n",
      "Franklyn Farnum     26\n",
      "Larry Steers        25\n",
      "Herman Hack         24\n",
      "Edmund Cobb         24\n",
      "Tom London          24\n",
      "Charles Sullivan    24\n",
      "Name: count, dtype: int64\n"
     ]
    }
   ],
   "source": [
    "actor =cast[cast['year']==1945]['name'].value_counts().head(10)\n",
    "print(f\"Top actors or actresses who appeared in the most movies in 1945: \\n {actor}\")"
   ]
  },
  {
   "cell_type": "code",
   "execution_count": null,
   "metadata": {
    "collapsed": true,
    "jupyter": {
     "outputs_hidden": true
    }
   },
   "outputs": [],
   "source": []
  },
  {
   "cell_type": "markdown",
   "metadata": {
    "collapsed": true,
    "jupyter": {
     "outputs_hidden": true
    }
   },
   "source": [
    "### Which actors or actresses appeared in the most movies in the year 1985?"
   ]
  },
  {
   "cell_type": "code",
   "execution_count": 107,
   "metadata": {},
   "outputs": [
    {
     "name": "stdout",
     "output_type": "stream",
     "text": [
      "Top actors or actresses who appeared in the most movies in 1985: \n",
      " name\n",
      "Shakti Kapoor       21\n",
      "Mammootty           21\n",
      "Raj Babbar          15\n",
      "Mohanlal            15\n",
      "Lou Scheimer        15\n",
      "Asrani              13\n",
      "Rajesh Khanna       13\n",
      "Jagdish Raj         12\n",
      "Satyendra Kapoor    12\n",
      "Pinchoo Kapoor      12\n",
      "Name: count, dtype: int64\n"
     ]
    }
   ],
   "source": [
    "actor =cast[cast['year']==1985]['name'].value_counts().head(10)\n",
    "print(f\"Top actors or actresses who appeared in the most movies in 1985: \\n {actor}\")"
   ]
  },
  {
   "cell_type": "code",
   "execution_count": null,
   "metadata": {
    "collapsed": true,
    "jupyter": {
     "outputs_hidden": true
    }
   },
   "outputs": [],
   "source": []
  },
  {
   "cell_type": "markdown",
   "metadata": {
    "collapsed": true,
    "jupyter": {
     "outputs_hidden": true
    }
   },
   "source": [
    "### Plot how many roles Mammootty has played in each year of his career."
   ]
  },
  {
   "cell_type": "code",
   "execution_count": 56,
   "metadata": {},
   "outputs": [
    {
     "data": {
      "image/png": "[encoded data removed]",
      "text/plain": [
       "<Figure size 1000x500 with 1 Axes>"
      ]
     },
     "metadata": {},
     "output_type": "display_data"
    }
   ],
   "source": [
    "cast['year'] = pd.to_numeric(cast['year'], errors='coerce')\n",
    "cast = cast.dropna(subset=['year'])\n",
    "\n",
    "mammootty_roles = cast[cast['name'].str.lower() == 'mammootty']\n",
    "\n",
    "yearly_counts = mammootty_roles['year'].value_counts().sort_index()\n",
    "\n",
    "plt.figure(figsize=(10, 5))\n",
    "plt.xlabel('Year')\n",
    "plt.ylabel('Number of Roles')\n",
    "plt.title('Number of Roles Played by Mammootty in Each Year')\n",
    "plt.bar(yearly_counts.index, yearly_counts.values, width=0.8, color='purple')\n",
    "\n",
    "plt.show()"
   ]
  },
  {
   "cell_type": "code",
   "execution_count": null,
   "metadata": {},
   "outputs": [],
   "source": [
    "\n"
   ]
  },
  {
   "cell_type": "markdown",
   "metadata": {
    "collapsed": true,
    "jupyter": {
     "outputs_hidden": true
    }
   },
   "source": [
    "### What are the 10 most frequent roles that start with the phrase \"Patron in\"?"
   ]
  },
  {
   "cell_type": "code",
   "execution_count": 141,
   "metadata": {},
   "outputs": [
    {
     "name": "stdout",
     "output_type": "stream",
     "text": [
      "Top 10 most frequent roles that start with 'Patron in': \n",
      "title       year    name              type   character                   n   \n",
      "Company K   2004.0  Vince Liebhart    actor  Patron in Quiet Bar         65.0    1\n",
      "Crashing    2007.0  Benn Heselev      actor  Patron in the Coffee House  54.0    1\n",
      "Striptease  1996.0  Ted Niarhos Jr.   actor  Patron in Club              48.0    1\n",
      "                    Marco Assante     actor  Patron in Club              49.0    1\n",
      "                    Darreck Crane     actor  Patron in Club              47.0    1\n",
      "Mr. North   1988.0  Richard Snee      actor  Patron in Billiard Parlor   41.0    1\n",
      "                    Richard Seguin    actor  Patron in Billiard Parlor   39.0    1\n",
      "                    Richard McElvain  actor  Patron in Billiard Parlor   38.0    1\n",
      "                    Frank (II) Dolan  actor  Patron in Billiard Parlor   40.0    1\n",
      "                    David Kennett     actor  Patron in Billiard Parlor   37.0    1\n",
      "Name: count, dtype: int64\n"
     ]
    }
   ],
   "source": [
    "movies =cast[cast['character'].str.startswith('Patron in' ,na =False)].value_counts().head(10)\n",
    "print (f\"Top 10 most frequent roles that start with 'Patron in': \\n{movies}\")"
   ]
  },
  {
   "cell_type": "code",
   "execution_count": null,
   "metadata": {
    "collapsed": true,
    "jupyter": {
     "outputs_hidden": true
    }
   },
   "outputs": [],
   "source": []
  },
  {
   "cell_type": "markdown",
   "metadata": {
    "collapsed": true,
    "jupyter": {
     "outputs_hidden": true
    }
   },
   "source": [
    "### What are the 10 most frequent roles that start with the word \"Science\"?"
   ]
  },
  {
   "cell_type": "code",
   "execution_count": 143,
   "metadata": {},
   "outputs": [
    {
     "name": "stdout",
     "output_type": "stream",
     "text": [
      "Top 10 most frequent roles that start with 'science in': \n",
      "title                 year    name                    type   character                 n   \n",
      "500 MPH Storm         2013.0  Gerard Pitpitan         actor  Science Tech #4           14.0    1\n",
      "Razbudite Mukhina     1968.0  Nikolay Sergeev         actor  Science teacher           6.0     1\n",
      "Little Savages        2016.0  Mickey (V) Smith        actor  Science Teacher           28.0    1\n",
      "                              Noah Simmons            actor  Science Kid               25.0    1\n",
      "Little Secrets        1991.0  Drew Swonetz            actor  Science Teacher           23.0    1\n",
      "Masterminds           1997.0  Douglas Newell          actor  Science Teacher           30.0    1\n",
      "Mello                 2014.0  Jeffrey Emrich          actor  Science Teacher           6.0     1\n",
      "Melvin: Son of Alvin  1984.0  Geoff Parry             actor  Science teacher           19.0    1\n",
      "Mutant Chronicles     2008.0  Andrew Mackay           actor  Science Monk's Assistant  32.0    1\n",
      "                              Roger Ashton-Griffiths  actor  Science Monk              13.0    1\n",
      "Name: count, dtype: int64\n"
     ]
    }
   ],
   "source": [
    "movies =cast[cast['character'].str.startswith('Science' ,na =False)].value_counts().head(10)\n",
    "print (f\"Top 10 most frequent roles that start with 'science in': \\n{movies}\")"
   ]
  },
  {
   "cell_type": "code",
   "execution_count": null,
   "metadata": {
    "collapsed": true,
    "jupyter": {
     "outputs_hidden": true
    }
   },
   "outputs": [],
   "source": []
  },
  {
   "cell_type": "markdown",
   "metadata": {
    "collapsed": true,
    "jupyter": {
     "outputs_hidden": true
    }
   },
   "source": [
    "### Plot the n-values of the roles that Judi Dench has played over her career."
   ]
  },
  {
   "cell_type": "code",
   "execution_count": 8,
   "metadata": {},
   "outputs": [
    {
     "ename": "IndentationError",
     "evalue": "unexpected indent (3276339149.py, line 6)",
     "output_type": "error",
     "traceback": [
      "\u001b[1;36m  Cell \u001b[1;32mIn[8], line 6\u001b[1;36m\u001b[0m\n\u001b[1;33m    plt.figure(figsize=(10, 5))\u001b[0m\n\u001b[1;37m    ^\u001b[0m\n\u001b[1;31mIndentationError\u001b[0m\u001b[1;31m:\u001b[0m unexpected indent\n"
     ]
    }
   ],
   "source": [
    "if 'n' in cast.columns and 'title' in cast.columns:\n",
    "  cast= cast.dropna(subset=['n'])\n",
    "    \n",
    "    # Convert 'n' to numeric values\n",
    "  cast['n'] = pd.to_numeric(cast['n']).sort_values(by='n');\n",
    "    plt.figure(figsize=(10, 5))\n",
    "    plt.barh(df['title'], df['n'], color='blue')\n",
    "    plt.xlabel('n-value')\n",
    "    plt.ylabel('Movie Title')\n",
    "    plt.title(\"Judi Dench's Roles Over Her Career\")\n",
    "    plt.gca().invert_yaxis()  # Invert y-axis to have the highest roles at the top\n",
    "    plt.show()\n",
    "else:\n",
    "    print(\"Required columns not found in CSV file.\")\n"
   ]
  },
  {
   "cell_type": "code",
   "execution_count": null,
   "metadata": {
    "collapsed": true,
    "jupyter": {
     "outputs_hidden": true
    }
   },
   "outputs": [],
   "source": []
  },
  {
   "cell_type": "markdown",
   "metadata": {
    "collapsed": true,
    "jupyter": {
     "outputs_hidden": true
    }
   },
   "source": [
    "### Plot the n-values of Cary Grant's roles through his career."
   ]
  },
  {
   "cell_type": "code",
   "execution_count": 64,
   "metadata": {},
   "outputs": [
    {
     "data": {
      "image/png": "[encoded data removed]",
      "text/plain": [
       "<Figure size 1000x500 with 1 Axes>"
      ]
     },
     "metadata": {},
     "output_type": "display_data"
    }
   ],
   "source": [
    "cast['year'] = pd.to_numeric(cast['year'], errors='coerce')\n",
    "cast = cast.dropna(subset=['year'])\n",
    "\n",
    "cary_grant_roles = cast[cast['name'].str.lower() == 'cary grant']\n",
    "\n",
    "yearly_counts = cary_grant_roles['year'].value_counts().sort_index()\n",
    "\n",
    "\n",
    "plt.figure(figsize=(10, 5))\n",
    "\n",
    "\n",
    "plt.xlabel('Year')\n",
    "plt.ylabel('Number of Roles')\n",
    "plt.title('Number of Roles Played by Cary Grant in Each Year')\n",
    "plt.bar(yearly_counts.index, yearly_counts.values, width=0.8, color='pink')\n",
    "\n",
    "plt.show()"
   ]
  },
  {
   "cell_type": "code",
   "execution_count": null,
   "metadata": {
    "collapsed": true,
    "jupyter": {
     "outputs_hidden": true
    }
   },
   "outputs": [],
   "source": []
  },
  {
   "cell_type": "markdown",
   "metadata": {
    "collapsed": true,
    "jupyter": {
     "outputs_hidden": true
    }
   },
   "source": [
    "### Plot the n-value of the roles that Sidney Poitier has acted over the years."
   ]
  },
  {
   "cell_type": "code",
   "execution_count": 70,
   "metadata": {},
   "outputs": [
    {
     "data": {
      "image/png": "[encoded data removed]",
      "text/plain": [
       "<Figure size 1000x500 with 1 Axes>"
      ]
     },
     "metadata": {},
     "output_type": "display_data"
    }
   ],
   "source": [
    "cast['year'] = pd.to_numeric(cast['year'], errors='coerce')\n",
    "cast = cast.dropna(subset=['year'])\n",
    "\n",
    "sidney_poitier_roles = cast[cast['name'].str.lower() == 'sidney poitier']\n",
    "\n",
    "yearly_counts = sidney_poitier_roles['year'].value_counts().sort_index()\n",
    "\n",
    "plt.figure(figsize=(10, 5))\n",
    "\n",
    "\n",
    "plt.xlabel('Year')\n",
    "plt.ylabel('Number of Roles')\n",
    "plt.title('Number of Roles Played by Sidney Poitier in Each Year')\n",
    "plt.bar(yearly_counts.index, yearly_counts.values, width=0.8, color='skyblue')\n",
    "plt.show()"
   ]
  },
  {
   "cell_type": "code",
   "execution_count": null,
   "metadata": {
    "collapsed": true,
    "jupyter": {
     "outputs_hidden": true
    }
   },
   "outputs": [],
   "source": []
  },
  {
   "cell_type": "markdown",
   "metadata": {
    "collapsed": true,
    "jupyter": {
     "outputs_hidden": true
    }
   },
   "source": [
    "### How many leading (n=1) roles were available to actors, and how many to actresses, in the 1950s?"
   ]
  },
  {
   "cell_type": "code",
   "execution_count": 215,
   "metadata": {},
   "outputs": [
    {
     "name": "stdout",
     "output_type": "stream",
     "text": [
      "Number of leading roles for actors in the 1950s:5910\n",
      "Number of leading roles for actresses in the 1950s:0\n"
     ]
    }
   ],
   "source": [
    "\n",
    "movies_actor= cast[(cast['n'] == 1) & ((cast['year']//10*10==1950)) & (cast['type'] == 'actor')]\n",
    "movies_actress=cast[(cast['n'] == 1) & ((cast['year']//10*10==1950)) & (cast['type'] == 'actress')]\n",
    "print(f\"Number of leading roles for actors in the 1950s:{movies_actor.shape[0]}\")\n",
    "print(f\"Number of leading roles for actresses in the 1950s:{movies_actress.shape[0]}\")\n",
    "\n"
   ]
  },
  {
   "cell_type": "code",
   "execution_count": null,
   "metadata": {},
   "outputs": [],
   "source": []
  },
  {
   "cell_type": "markdown",
   "metadata": {
    "collapsed": true,
    "jupyter": {
     "outputs_hidden": true
    }
   },
   "source": [
    "### How many supporting (n=2) roles were available to actors, and how many to actresses, in the 1950s?"
   ]
  },
  {
   "cell_type": "code",
   "execution_count": 217,
   "metadata": {},
   "outputs": [
    {
     "name": "stdout",
     "output_type": "stream",
     "text": [
      "Number of leading roles for actors in the 1950s:4117\n",
      "Number of leading roles for actresses in the 1950s:0\n"
     ]
    }
   ],
   "source": [
    "movies_actor= cast[(cast['n'] == 2) & ((cast['year']//10*10==1950)) & (cast['type'] == 'actor')]\n",
    "movies_actress=cast[(cast['n'] == 2) & ((cast['year']//10*10==1950)) & (cast['type'] == 'actress')]\n",
    "print(f\"Number of leading roles for actors in the 1950s:{movies_actor.shape[0]}\")\n",
    "print(f\"Number of leading roles for actresses in the 1950s:{movies_actress.shape[0]}\")\n"
   ]
  },
  {
   "cell_type": "code",
   "execution_count": null,
   "metadata": {
    "collapsed": true,
    "jupyter": {
     "outputs_hidden": true
    }
   },
   "outputs": [],
   "source": []
  }
 ],
 "metadata": {
  "kernelspec": {
   "display_name": "Python [conda env:base] *",
   "language": "python",
   "name": "conda-base-py"
  },
  "language_info": {
   "codemirror_mode": {
    "name": "ipython",
    "version": 3
   },
   "file_extension": ".py",
   "mimetype": "text/x-python",
   "name": "python",
   "nbconvert_exporter": "python",
   "pygments_lexer": "ipython3",
   "version": "3.12.7"
  }
 },
 "nbformat": 4,
 "nbformat_minor": 4
}
