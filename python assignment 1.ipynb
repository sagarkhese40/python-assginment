{
 "cells": [
  {
   "cell_type": "code",
   "execution_count": 2,
   "id": "41c6aedc-50ba-477c-aae0-b488ed156000",
   "metadata": {},
   "outputs": [
    {
     "name": "stdout",
     "output_type": "stream",
     "text": [
      "good morning\n"
     ]
    }
   ],
   "source": [
    "\n",
    "msg = \"good morning\"\n",
    "print(msg)\n"
   ]
  },
  {
   "cell_type": "code",
   "execution_count": 4,
   "id": "65aaca0d-eda7-472e-a88d-98a381529dc6",
   "metadata": {},
   "outputs": [
    {
     "name": "stdout",
     "output_type": "stream",
     "text": [
      "good morning\n"
     ]
    }
   ],
   "source": [
    "new = \"good morning\"\n",
    "print(new)\n"
   ]
  },
  {
   "cell_type": "code",
   "execution_count": 6,
   "id": "896a25dc-b5d4-417f-88f3-04d223c6601d",
   "metadata": {},
   "outputs": [
    {
     "name": "stdout",
     "output_type": "stream",
     "text": [
      "good night\n"
     ]
    }
   ],
   "source": [
    "new = \"good night\"\n",
    "print(new)\n"
   ]
  },
  {
   "cell_type": "code",
   "execution_count": 8,
   "id": "3bb94286-61c4-4e3d-8875-b3f677db2f4e",
   "metadata": {},
   "outputs": [
    {
     "name": "stdout",
     "output_type": "stream",
     "text": [
      "shivaji maharaj once said, “A courageous and brave man also bends in the honor of the learned and wise. Because courage also comes from knowledge and wisdom.”\n"
     ]
    }
   ],
   "source": [
    "print('shivaji maharaj once said, “A courageous and brave man also bends in the honor of the learned and wise. Because courage also comes from knowledge and wisdom.”')\n"
   ]
  },
  {
   "cell_type": "code",
   "execution_count": 10,
   "id": "7e636b9a-69c6-4773-b3db-417e658157ad",
   "metadata": {},
   "outputs": [
    {
     "name": "stdout",
     "output_type": "stream",
     "text": [
      "shivaji maharaj once said, “A courageous and brave man also bends in the honor of the learned and wise. Because courage also comes from knowledge and wisdom.”\n"
     ]
    }
   ],
   "source": [
    "name1 = \"shivaji maharaj\"\n",
    "print(f'{name1} once said, “A courageous and brave man also bends in the honor of the learned and wise. Because courage also comes from knowledge and wisdom.”')\n"
   ]
  },
  {
   "cell_type": "code",
   "execution_count": 12,
   "id": "818b8c2c-2c95-4def-9034-07aff66ff5eb",
   "metadata": {},
   "outputs": [
    {
     "name": "stdout",
     "output_type": "stream",
     "text": [
      "8\n",
      "8\n",
      "8\n",
      "8.0\n"
     ]
    }
   ],
   "source": [
    "print(6 + 2)   # Addition\n",
    "print(18 - 10)  # Subtraction\n",
    "print(4 * 2)    # Multiplication\n",
    "print(16 / 2)   # Division\n"
   ]
  },
  {
   "cell_type": "code",
   "execution_count": 14,
   "id": "b6b7abf9-dfb5-48b3-9fef-d91f10bea125",
   "metadata": {},
   "outputs": [
    {
     "name": "stdout",
     "output_type": "stream",
     "text": [
      "my birthday is on 26th may\n"
     ]
    }
   ],
   "source": [
    "number = 26\n",
    "print(f\"my birthday is on {number}th may\")\n"
   ]
  },
  {
   "cell_type": "code",
   "execution_count": 16,
   "id": "9c3ec6e4-bcab-4002-8b9d-4a36e968caba",
   "metadata": {},
   "outputs": [
    {
     "name": "stdout",
     "output_type": "stream",
     "text": [
      "Hello Jhon, would you like to learn some Python today?\n"
     ]
    }
   ],
   "source": [
    "name = \"Jhon\"\n",
    "print(f\"Hello {name}, would you like to learn some Python today?\")\n"
   ]
  },
  {
   "cell_type": "code",
   "execution_count": 18,
   "id": "2a64cc2b-5d98-41db-a60e-d653ec2c31a0",
   "metadata": {},
   "outputs": [
    {
     "name": "stdout",
     "output_type": "stream",
     "text": [
      "prasad\n",
      "om\n",
      "raj\n"
     ]
    }
   ],
   "source": [
    "name = [\"prasad\", \"om\", \"raj\"]\n",
    "print(name[0])\n",
    "print(name[1])\n",
    "print(name[2])\n"
   ]
  },
  {
   "cell_type": "code",
   "execution_count": 20,
   "id": "1b1cfece-91b5-4709-83b7-bfced1ef891e",
   "metadata": {},
   "outputs": [
    {
     "name": "stdout",
     "output_type": "stream",
     "text": [
      "hi! prasad, good morning\n",
      "hi! om, good afternoon\n",
      "hi! raj, good good evening\n"
     ]
    }
   ],
   "source": [
    "name = [\"prasad\", \"om\", \"raj\"]\n",
    "print(f\"hi! {name[0]}, good morning\")\n",
    "print(f\"hi! {name[1]}, good afternoon\")\n",
    "print(f\"hi! {name[2]}, good good evening\")\n"
   ]
  },
  {
   "cell_type": "code",
   "execution_count": 22,
   "id": "823264d6-2ce7-4e6b-92ce-9a8021fd7005",
   "metadata": {},
   "outputs": [
    {
     "name": "stdout",
     "output_type": "stream",
     "text": [
      "I would like to own a BMW.\n",
      "I would like to own a audi.\n",
      "I would like to own a bugati.\n"
     ]
    }
   ],
   "source": [
    "car = ['BMW', 'audi', 'bugati']\n",
    "print(f\"I would like to own a {car[0]}.\")\n",
    "print(f\"I would like to own a {car[1]}.\")\n",
    "print(f\"I would like to own a {car[2]}.\")\n"
   ]
  }
 ],
 "metadata": {
  "kernelspec": {
   "display_name": "Python [conda env:base] *",
   "language": "python",
   "name": "conda-base-py"
  },
  "language_info": {
   "codemirror_mode": {
    "name": "ipython",
    "version": 3
   },
   "file_extension": ".py",
   "mimetype": "text/x-python",
   "name": "python",
   "nbconvert_exporter": "python",
   "pygments_lexer": "ipython3",
   "version": "3.12.7"
  }
 },
 "nbformat": 4,
 "nbformat_minor": 5
}
