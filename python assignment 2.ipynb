{
 "cells": [
  {
   "cell_type": "markdown",
   "id": "b208b9c9-daa6-4557-af31-80851c985204",
   "metadata": {},
   "source": [
    "#task 1"
   ]
  },
  {
   "cell_type": "code",
   "execution_count": 1,
   "id": "3010d75b-d1dc-407b-9549-c6ece9451e20",
   "metadata": {},
   "outputs": [
    {
     "name": "stdin",
     "output_type": "stream",
     "text": [
      "Enter the basic salary of Ramesh 20000\n"
     ]
    },
    {
     "name": "stdout",
     "output_type": "stream",
     "text": [
      "Ramesh's gorss salary is :32000.0\n"
     ]
    }
   ],
   "source": [
    "## 1. Ramesh's basic salary is input through the keyboard. His dearness allowance is 40% of\n",
    "#basic salary, and house rent allowance is 20% of basic salary. Write a program to calculate\n",
    "#his gross salary.\n",
    "basic_salary=float(input(\"Enter the basic salary of Ramesh\"))\n",
    "\n",
    "#calculte dearness allowance\n",
    "dearness_allowance = 0.40*basic_salary\n",
    "#calaculate house rentallowance\n",
    "house_rent_allowance =0.20*basic_salary\n",
    "#calculate gross salary\n",
    "gross_salary =basic_salary+dearness_allowance+house_rent_allowance\n",
    "## print satetment\n",
    "print(f\"Ramesh's gorss salary is :{gross_salary}\")"
   ]
  },
  {
   "cell_type": "code",
   "execution_count": 2,
   "id": "bd979cb4-ab38-4423-9e57-8b995c97257a",
   "metadata": {},
   "outputs": [
    {
     "name": "stdin",
     "output_type": "stream",
     "text": [
      "Enter the distance betwen two city in km 45\n"
     ]
    },
    {
     "name": "stdout",
     "output_type": "stream",
     "text": [
      "The distance in meter :45000.0 meters\n",
      "The distance in feet :147637.80000000002 feet\n",
      "The distancein inches:1771654.5 inches\n",
      "The distancein centimeter :45000.0 cm\n"
     ]
    }
   ],
   "source": [
    "##2. The distance between two cities (in km.) is input through the keyboard. Write a program\n",
    "#to convert and print this distance in meters, feet, inches and centimeters.\n",
    "\n",
    "distance=float(input(\"Enter the distance betwen two city in km\"))\n",
    "\n",
    "## below kilometer converted in meter ,feet ,inches and centimiter\n",
    "distance_meter = distance *1000\n",
    "print(f\"The distance in meter :{distance_meter} meters\") \n",
    "\n",
    "distance_feet= distance*3280.84\n",
    "print(f\"The distance in feet :{distance_feet} feet\") \n",
    "\n",
    "distance_inch =distance*39370.1\n",
    "print(f\"The distancein inches:{distance_inch} inches\")\n",
    "\n",
    "distance_cm =distance*100000\n",
    "print(f\"The distancein centimeter :{distance_meter} cm\") "
   ]
  },
  {
   "cell_type": "code",
   "execution_count": 3,
   "id": "127b215f-654f-4fb5-a0ac-412109961305",
   "metadata": {},
   "outputs": [
    {
     "name": "stdin",
     "output_type": "stream",
     "text": [
      "Enter marks for subject 1(out of 100): 45\n",
      "Enter marks for subject 2(out of 100): 52\n",
      "Enter marks for subject 3(out of 100): 56\n",
      "Enter marks for subject 4(out of 100): 98\n",
      "Enter marks for subject 5(out of 100): 99\n"
     ]
    },
    {
     "name": "stdout",
     "output_type": "stream",
     "text": [
      "Aggrehgate marks :350.0\n",
      "Percentage :70.0\n"
     ]
    }
   ],
   "source": [
    "#3. If the marks obtained by a student in five different subjects are input through the\n",
    "#keyboard, find out the aggregate marks and percentage marks obtained by the student.\n",
    "#Assume that the maximum marks that can be obtained by a student in each subject is 100.\n",
    "\n",
    "mark =[]\n",
    "for m in range(1,6):\n",
    "    mark.append(float(input(f\"Enter marks for subject {m}(out of 100):\")))\n",
    "\n",
    "#aggregate marks\n",
    "total_mark =sum(mark)\n",
    "#percentage\n",
    "percentage =(total_mark/500)*100\n",
    "\n",
    "print(f\"Aggrehgate marks :{total_mark}\")\n",
    "print(f\"Percentage :{percentage}\")"
   ]
  },
  {
   "cell_type": "code",
   "execution_count": 7,
   "id": "6f0de101-e1a2-41ea-b654-847bc72492f7",
   "metadata": {},
   "outputs": [
    {
     "name": "stdin",
     "output_type": "stream",
     "text": [
      "Enter temprature in Fahrenheit :  102\n"
     ]
    },
    {
     "name": "stdout",
     "output_type": "stream",
     "text": [
      "Temprature in Centigrade :38.888888888888886\n"
     ]
    }
   ],
   "source": [
    "##4. Temperature of a city in Fahrenheit degrees is input through the keyboard. Write a\n",
    "#program to convert this temperature into Centigrade degrees\n",
    "\n",
    "Fahrenheit=float(input(\"Enter temprature in Fahrenheit : \"))\n",
    "\n",
    "#convert to Centigrade\n",
    "Centigrade =(Fahrenheit -32)*5/9\n",
    "\n",
    "print(f\"Temprature in Centigrade :{Centigrade}\")"
   ]
  },
  {
   "cell_type": "code",
   "execution_count": 9,
   "id": "d25455ef-1973-4455-b51d-32c7c79eaaa7",
   "metadata": {},
   "outputs": [
    {
     "name": "stdin",
     "output_type": "stream",
     "text": [
      "Enter length of rectangle:  45\n",
      "Enter breadth of rectangle:  56\n",
      "Enter radius of circle:  52\n"
     ]
    },
    {
     "name": "stdout",
     "output_type": "stream",
     "text": [
      "Area of rectangle: 2520.0\n",
      "Perimeter of rectangle: 202.0\n",
      "Area of circle: 8494.8665353068\n",
      "Circumference of circle: 326.7256359733385\n"
     ]
    }
   ],
   "source": [
    "##5. The length & breadth of a rectangle and radius of a circle are input through the\n",
    "#keyboard. Write a program to calculate the area & perimeter of the rectangle, and the area\n",
    "#& circumference of the circle\n",
    "\n",
    "import math\n",
    "\n",
    "length = float(input(\"Enter length of rectangle: \"))\n",
    "breadth = float(input(\"Enter breadth of rectangle: \"))\n",
    "radius = float(input(\"Enter radius of circle: \"))\n",
    "\n",
    "# Calculate area and perimeter of rectangle\n",
    "area_rectangle = length *breadth\n",
    "perimeter_rectangle = 2 * length + breadth)\n",
    "\n",
    "# Calculate area and circumference of circle\n",
    "area_circle = math.pi * radius ** 2\n",
    "circumference_circle = 2 * math.pi * radius\n",
    "\n",
    "#print statement\n",
    "print(f\"Area of rectangle: {area_rectangle}\")\n",
    "print(f\"Perimeter of rectangle: {perimeter_rectangle}\")\n",
    "print(f\"Area of circle: {area_circle}\")\n",
    "print(f\"Circumference of circle: {circumference_circle}\")\n"
   ]
  },
  {
   "cell_type": "code",
   "execution_count": 13,
   "id": "2bdc4de7-4c14-45ea-8b6a-8dfca225c985",
   "metadata": {},
   "outputs": [
    {
     "name": "stdin",
     "output_type": "stream",
     "text": [
      "Enter value of c :  4\n",
      "Enter value of D:  5\n"
     ]
    },
    {
     "name": "stdout",
     "output_type": "stream",
     "text": [
      "after interchange , C =5.0 and D =4.0\n"
     ]
    }
   ],
   "source": [
    "##6. Two numbers are input through the keyboard into two locations C and D. Write a\n",
    "#program to interchange the contents of C and D.\n",
    "C =float(input(\"Enter value of c : \"))\n",
    "D =float(input(\"Enter value of D: \"))\n",
    "#interchange variable value\n",
    "C ,D=D,C\n",
    "\n",
    "print(f\"after interchange , C ={C} and D ={D}\")"
   ]
  },
  {
   "cell_type": "code",
   "execution_count": 23,
   "id": "469ea5b1-96fd-4871-be41-b980387b1ddc",
   "metadata": {},
   "outputs": [
    {
     "name": "stdin",
     "output_type": "stream",
     "text": [
      "Enter a five digit number :  45555\n"
     ]
    },
    {
     "name": "stdout",
     "output_type": "stream",
     "text": [
      "sum of digit : 24\n"
     ]
    }
   ],
   "source": [
    "##7. If a five-digit number is input through the keyboard, write a program to calculate the\n",
    "#sum of its digits. ( Hint: Use the modulus operator '%')\n",
    "number = int(input(\"Enter a five digit number : \"))\n",
    "#sum of digit\n",
    "sum_digit =sum(int(digit) for digit in str(number))\n",
    "\n",
    "print(f\"sum of digit : {sum_digit}\")\n",
    "              "
   ]
  },
  {
   "cell_type": "code",
   "execution_count": 27,
   "id": "28a5bdd5-1963-4c75-bc45-4fd38c726ad8",
   "metadata": {},
   "outputs": [
    {
     "name": "stdin",
     "output_type": "stream",
     "text": [
      "Enter a five-digit  number :  4556\n"
     ]
    },
    {
     "name": "stdout",
     "output_type": "stream",
     "text": [
      "Reverse num : 6554\n"
     ]
    }
   ],
   "source": [
    "##8. If a five-digit number is input through the keyboard, write a program to reverse the\n",
    "#number.\n",
    "number =int(input(\"Enter a five-digit  number : \"))\n",
    "#reverse\n",
    "reverse_num =int(str(number)[::-1])\n",
    "\n",
    "print(f\"Reverse num : {reverse_num}\")\n",
    "             "
   ]
  },
  {
   "cell_type": "code",
   "execution_count": 31,
   "id": "cd11dfed-8441-40fd-8f7c-b371b0fc4018",
   "metadata": {},
   "outputs": [
    {
     "name": "stdin",
     "output_type": "stream",
     "text": [
      "Enter a four-digit number 4444\n"
     ]
    },
    {
     "name": "stdout",
     "output_type": "stream",
     "text": [
      "Sum of first and last digit: 8\n"
     ]
    }
   ],
   "source": [
    "##9. If a four-digit number is input through the keyboard, write a program to obtain the sum\n",
    "##of the first and last digit of this number.\n",
    "\n",
    "number  = int(input(\"Enter a four-digit number\"))\n",
    "\n",
    "first_digit =int(str(number)[0])\n",
    "last_digit =number%10\n",
    "\n",
    "## calculate sum of first and last\n",
    "sum_digit = first_digit + last_digit\n",
    "\n",
    "print(f\"Sum of first and last digit: {sum_digit}\")\n",
    "\n"
   ]
  },
  {
   "cell_type": "code",
   "execution_count": 33,
   "id": "d340df88-cca1-462c-ad41-b37784236566",
   "metadata": {},
   "outputs": [
    {
     "name": "stdout",
     "output_type": "stream",
     "text": [
      "Illiterate Men: 13600.0\n",
      "Illiterate Women: 0.0\n"
     ]
    }
   ],
   "source": [
    "#10. In a town, the percentage of men is 52. The percentage of total literacy is 48. If total\n",
    "#percentage of literate men is 35 of the total population, write a program to find the total\n",
    "#number of illiterate men and women if the population of the town is 80,000\n",
    "\n",
    "\n",
    "population = 80000\n",
    "men_percentage = 52\n",
    "literacy_percentage = 48\n",
    "literate_men_percentage = 35\n",
    "\n",
    "\n",
    "total_men = (men_percentage / 100) * population\n",
    "literate_men = (literate_men_percentage / 100) * population\n",
    "illiterate_men = total_men - literate_men\n",
    "total_women = population - total_men\n",
    "illiterate_women = total_women - (literacy_percentage / 100) * population\n",
    "\n",
    "print(f\"Illiterate Men: {illiterate_men}\")\n",
    "print(f\"Illiterate Women: {illiterate_women}\")\n"
   ]
  },
  {
   "cell_type": "code",
   "execution_count": 39,
   "id": "8f0ed40d-6f3d-4a75-a457-9e9c721f6c45",
   "metadata": {},
   "outputs": [
    {
     "name": "stdin",
     "output_type": "stream",
     "text": [
      "Enter the amount to be withdrawn (in hundred):  80\n"
     ]
    },
    {
     "name": "stdout",
     "output_type": "stream",
     "text": [
      "Currency Notes of 100: 0\n",
      "Currency Notes of 50: 1\n",
      "Currency Notes of 10: 3\n"
     ]
    }
   ],
   "source": [
    "##11. A cashier has currency notes of denominations 10, 50 and 100. If the amount to be\n",
    "#withdrawn is input through the keyboard in hundreds, find the total number of currency\n",
    "#notes of each denomination the cashier will have to give to the withdrawer.\n",
    "\n",
    "Amt =int(input(\"Enter the amount to be withdrawn (in hundred): \"))\n",
    "\n",
    "##currnecy note\n",
    "hundred =Amt//100\n",
    "Amt%=100\n",
    "\n",
    "fifty =Amt//50\n",
    "Amt%=50\n",
    "\n",
    "ten =Amt//10\n",
    "print(f\"Currency Notes of 100: {hundred}\")\n",
    "print(f\"Currency Notes of 50: {fifty}\")\n",
    "print(f\"Currency Notes of 10: {ten}\")\n"
   ]
  },
  {
   "cell_type": "code",
   "execution_count": 41,
   "id": "59499795-a84b-42a8-a488-fc6b9fcfaa7b",
   "metadata": {},
   "outputs": [
    {
     "name": "stdin",
     "output_type": "stream",
     "text": [
      "Enter the total selling price of 15 item:  750\n",
      "Enter the total profit earned on 15 item :  450\n"
     ]
    },
    {
     "name": "stdout",
     "output_type": "stream",
     "text": [
      "cost price of one item : 20.0\n"
     ]
    }
   ],
   "source": [
    "##12. If the total selling price of 15 items and the total profit earned on them is input through\n",
    "#the keyboard, write a program to find the cost price of one item.\n",
    "selling_price = float(input(\"Enter the total selling price of 15 item: \"))\n",
    "profit_price =float(input(\"Enter the total profit earned on 15 item : \"))\n",
    "\n",
    "\n",
    "cost_price = selling_price -profit_price\n",
    "cost_per_item =cost_price/15\n",
    "\n",
    "\n",
    "print(f\"cost price of one item : {cost_per_item}\")\n"
   ]
  },
  {
   "cell_type": "code",
   "execution_count": 43,
   "id": "8302e494-a9d3-443f-a5ec-18ff29cbc7b3",
   "metadata": {},
   "outputs": [
    {
     "name": "stdin",
     "output_type": "stream",
     "text": [
      "Enter a five digit number :  12391\n"
     ]
    },
    {
     "name": "stdout",
     "output_type": "stream",
     "text": [
      "New number: 234102\n"
     ]
    }
   ],
   "source": [
    "#13. If a five-digit number is input through the keyboard, write a program to print a new\n",
    "#number by adding one to each of its digits. For example, if the number that is input is\n",
    "#12391 then the output should be displayed as 23402.\n",
    "\n",
    "number  = int(input(\"Enter a five digit number : \"))\n",
    "\n",
    "new_num =''.join(str(int(digit)+1) for digit in str (number))\n",
    "\n",
    "print(f\"New number: {new_num}\")\n",
    "              "
   ]
  },
  {
   "cell_type": "markdown",
   "id": "23ecb197-4a75-42d1-9752-3dbcefe6c4d2",
   "metadata": {},
   "source": [
    "## task 2\n"
   ]
  },
  {
   "cell_type": "code",
   "execution_count": 18,
   "id": "ab7df4dc-5231-43c0-bba0-cd9171ec05ad",
   "metadata": {},
   "outputs": [
    {
     "name": "stdin",
     "output_type": "stream",
     "text": [
      "Enter the quantity :  11\n",
      "Enter the price per item :  40\n"
     ]
    },
    {
     "name": "stdout",
     "output_type": "stream",
     "text": [
      "Total expenses:  396.0\n"
     ]
    }
   ],
   "source": [
    "#1. While purchasing certain items, a discount of 10% is offered if the quantity purchased is\n",
    "#more than 10. If quantity and price per item are input through the keyboard, write a\n",
    "#program to calculate the total expenses.\n",
    "\n",
    "\n",
    "Quantity =int(input(\"Enter the quantity : \"))\n",
    "price_per_item =float(input(\"Enter the price per item : \"))\n",
    "\n",
    "if Quantity > 10:\n",
    "    total_exp = Quantity*price_per_item*0.9\n",
    "    \n",
    "else:\n",
    "    total_exp = Quantity*price_per_item\n",
    "print(\"Total expenses: \" ,total_exp)\n",
    "                      \n",
    "            "
   ]
  },
  {
   "cell_type": "code",
   "execution_count": 22,
   "id": "2c2c90dd-ef9c-4aa2-a758-1fe29903969d",
   "metadata": {},
   "outputs": [
    {
     "name": "stdin",
     "output_type": "stream",
     "text": [
      "Enter the current year : 2020\n",
      "Enter the joining year:  2016\n"
     ]
    },
    {
     "name": "stdout",
     "output_type": "stream",
     "text": [
      "Bonus : 2500\n"
     ]
    }
   ],
   "source": [
    "#2. The current year and the year in which the employee joined the organization are entered\n",
    "#through the keyboard. If the number of years for which the employee has served the\n",
    "#organization is greater than 3 then a bonus of Rs. 2500/- is given to the employee. If the\n",
    "#years of service are not greater than 3, then the program should do nothing.\n",
    "\n",
    "current_year =int(input(\"Enter the current year :\"))\n",
    "joining_year =int(input(\"Enter the joining year: \"))\n",
    "\n",
    "service_year = current_year - joining_year\n",
    "\n",
    "if service_year > 3:\n",
    "    bonus =2500\n",
    "    print(\"Bonus :\",bonus)\n",
    "\n",
    "else:\n",
    "    print(\"No bonus\")\n"
   ]
  },
  {
   "cell_type": "code",
   "execution_count": 24,
   "id": "e0d1c072-e68f-47c6-a227-6d9170754a90",
   "metadata": {},
   "outputs": [
    {
     "name": "stdin",
     "output_type": "stream",
     "text": [
      "Enter the employee basic salary :  35000\n"
     ]
    },
    {
     "name": "stdout",
     "output_type": "stream",
     "text": [
      "Gross salary of employee is 69800.0\n"
     ]
    }
   ],
   "source": [
    "#3. If his basic salary is less than Rs. 1500, then HRA = 10% of basic salary and DA = 90% of\n",
    "#basic salary. If his salary is either equal to or above Rs. 1500, then HRA = Rs. 500 and DA =\n",
    "#98% of basic salary. If the employee's salary is input through the keyboard write a program\n",
    "#to find his gross salary\n",
    "\n",
    "basic_salary =float(input(\"Enter the employee basic salary : \"))\n",
    "\n",
    "if basic_salary < 1500:\n",
    "    HRA = 0.10*basic_salary\n",
    "    DA  = 0.90*basic_salary\n",
    "else:\n",
    "    HRA =500\n",
    "    DA  = 0.98*basic_salary\n",
    "\n",
    "gross_salary =basic_salary+HRA+DA\n",
    "\n",
    "print(f\"Gross salary of employee is {gross_salary}\")"
   ]
  },
  {
   "cell_type": "code",
   "execution_count": 36,
   "id": "3ac925b6-ccef-440e-8032-5610d9fc3964",
   "metadata": {},
   "outputs": [
    {
     "name": "stdin",
     "output_type": "stream",
     "text": [
      "Enter marks for subject 1:  45\n",
      "Enter marks for subject 2:  55\n",
      "Enter marks for subject 3:  65\n",
      "Enter marks for subject 4:  36\n",
      "Enter marks for subject 5:  89\n"
     ]
    },
    {
     "name": "stdout",
     "output_type": "stream",
     "text": [
      "second division\n"
     ]
    }
   ],
   "source": [
    "#4. The marks obtained by a student in 5 different subjects are input through the keyboard.\n",
    "#The student gets a division as per the following rules: Write a program to calculate the\n",
    "#division obtained by the student.\n",
    "#a. Percentage above or equal to 60 - First division\n",
    "#c. Percentage between 40 and 49 - Third division\n",
    "#d. Percentage less than 40 – Fail\n",
    "\n",
    "student_mark = [int(input(f\"Enter marks for subject {m+1}: \")) for m in range (5)]\n",
    "total_mark =sum(student_mark)\n",
    "\n",
    "percentage = (total_mark/500)*100\n",
    "\n",
    "if percentage >=60:\n",
    "    print(\"First division\")\n",
    "elif 50<= percentage <60:\n",
    "    print(\"second division\")\n",
    "elif  40<= percentage<50:\n",
    "    print(\"third divsion\")\n",
    "else:\n",
    "    print(\"fail\")\n",
    "\n",
    "\n"
   ]
  },
  {
   "cell_type": "code",
   "execution_count": 54,
   "id": "4d1620e3-ab20-449c-9ca8-fecf7d2abd8d",
   "metadata": {},
   "outputs": [
    {
     "name": "stdin",
     "output_type": "stream",
     "text": [
      "Enter the maritial status (married /unmarried):  unmarried\n",
      "Enter the gender :  male\n",
      "Enter the age :  23\n"
     ]
    },
    {
     "name": "stdout",
     "output_type": "stream",
     "text": [
      "Driver is not eligible for insurance\n"
     ]
    }
   ],
   "source": [
    "#5. A company insures its drivers in the following cases:\n",
    "#a. If the driver is married.\n",
    "#b. If the driver is unmarried, male & above 30 years of age.\n",
    "#c. If the driver is unmarried, female & above 25 years of age\n",
    "\n",
    "mariatial_status =input(\"Enter the maritial status (married /unmarried): \")\n",
    "gender =input (\"Enter the gender : \")\n",
    "age = int(input(\"Enter the age : \"))\n",
    "\n",
    "if mariatial_status =='married'  :\n",
    "    print(\"Driver is eligible for insurance \")\n",
    "elif mariatial_status == 'unmarried' and gender =='male' and age >30:\n",
    "    print(\"Driver is eligible for insurance\")\n",
    "elif mariatial_status == 'unmarried' and gender =='female' and age >25:\n",
    "    print(\"Driver is eligible for insurance\")\n",
    "else:\n",
    "    print(\"Driver is not eligible for insurance\")\n",
    "    "
   ]
  },
  {
   "cell_type": "code",
   "execution_count": 56,
   "id": "bc0edaad-eb5a-4106-8c84-dc28101d3434",
   "metadata": {},
   "outputs": [
    {
     "name": "stdin",
     "output_type": "stream",
     "text": [
      "Enter gender :  male\n",
      "Enter of years of service :  15\n",
      "Enter qualification (Graduate/ Post - Graduate):  Graduate\n"
     ]
    },
    {
     "name": "stdout",
     "output_type": "stream",
     "text": [
      "salary : 10000\n"
     ]
    }
   ],
   "source": [
    "#6. Write a program to calculate the salary as per the following table:\n",
    "#Gender Year of Service Qualifications Salary\n",
    "#Male >= 10 Post - Graduate 15000\n",
    "#>= 10 Graduate 10000\n",
    "#< 10 Post - Graduate 10000\n",
    "#< 10 Graduate 7000\n",
    "#Female >= 10 Post - Graduate 12000\n",
    "#>= 10 Graduate 9000\n",
    "#< 10 Post - Graduate 10000\n",
    "#< 10 Graduate 6000\n",
    "\n",
    "gender =input(\"Enter gender : \")\n",
    "year_of_service =int(input(\"Enter of years of service : \"))\n",
    "qualification =input(\"Enter qualification (Graduate/ Post - Graduate): \")\n",
    "\n",
    "if gender =='male':\n",
    "    if year_of_service >=10:\n",
    "        if qualification =='Post - Graduate':\n",
    "            salary =15000\n",
    "        else:\n",
    "            salary =10000\n",
    "    else:\n",
    "         if qualification =='Post - Graduate':\n",
    "             salary =10000\n",
    "         else:\n",
    "             salary =7000\n",
    "else:\n",
    "    if year_of_service >=10:\n",
    "       if qualification == 'Post - Graduate':\n",
    "        salary =12000\n",
    "       else:\n",
    "           salary=9000\n",
    "\n",
    "    else:\n",
    "        if qualification =='Post - Graduate':\n",
    "            salary =10000\n",
    "        else:\n",
    "            salary =6000\n",
    "\n",
    "print(\"salary :\",salary)\n",
    "           \n",
    "    \n",
    "             \n",
    "       \n",
    "        \n",
    "\n"
   ]
  },
  {
   "cell_type": "code",
   "execution_count": 63,
   "id": "6759445a-6c40-4453-995d-9da6f86e8c57",
   "metadata": {},
   "outputs": [
    {
     "name": "stdin",
     "output_type": "stream",
     "text": [
      "Enter the cost price :  50000\n",
      "Enter the selling price :  50000\n"
     ]
    },
    {
     "name": "stdout",
     "output_type": "stream",
     "text": [
      "No profit, No loss\n"
     ]
    }
   ],
   "source": [
    "#7. If cost price and selling price of an item is input through the keyboard, write a program\n",
    "#to determine whether the seller has made profit or incurred loss. Also determine how\n",
    "#much profit he made or loss he incurred.\n",
    "cost_price =float(input(\"Enter the cost price : \"))\n",
    "selling_price =float(input(\"Enter the selling price : \"))\n",
    "\n",
    "if selling_price>cost_price:\n",
    "    profit = selling_price-cost_price\n",
    "    print(\"profit :\",profit)\n",
    "elif selling_price < cost_price:\n",
    "    loss =cost_price-selling_price\n",
    "    print(\"loss :\" ,loss)\n",
    "else:\n",
    "   print(\"No profit, No loss\")"
   ]
  },
  {
   "cell_type": "code",
   "execution_count": 67,
   "id": "82d853e3-0393-43b6-912e-15d40749eab0",
   "metadata": {},
   "outputs": [
    {
     "name": "stdin",
     "output_type": "stream",
     "text": [
      "Enter the integer number:  23\n"
     ]
    },
    {
     "name": "stdout",
     "output_type": "stream",
     "text": [
      "Odd number\n"
     ]
    }
   ],
   "source": [
    "#8. Any integer is input through the keyboard. Write a program to find out whether it is an\n",
    "#odd number or even number. (Hint: Use the % (modulus) operator)\n",
    "number = int(input(\"Enter the integer number: \"))\n",
    "if number % 2 ==0:\n",
    "     print(\"Even number\")\n",
    "else:\n",
    "    print(\"Odd number\")"
   ]
  },
  {
   "cell_type": "code",
   "execution_count": 79,
   "id": "df4e3747-0080-4b29-a3a2-d288c55d246a",
   "metadata": {},
   "outputs": [
    {
     "name": "stdin",
     "output_type": "stream",
     "text": [
      "Enter the five digit number:  11\n"
     ]
    },
    {
     "name": "stdout",
     "output_type": "stream",
     "text": [
      "Reversed number:  11\n",
      " This number is reversed equal\n"
     ]
    }
   ],
   "source": [
    "##9. A five-digit number is entered through the keyboard. Write a program to obtain the\n",
    "#reversed number and to determine whether the original and reversed numbers are equal\n",
    "#or not\n",
    "\n",
    "number =int(input(\"Enter the five digit number: \"))\n",
    "reversed_num =int(str(number)[::-1])\n",
    "\n",
    "print(\"Reversed number: \",reversed_num)\n",
    "if number == reversed_num:\n",
    "    print(\" This number is reversed equal\")\n",
    "\n",
    "else:\n",
    "    print(\"This number not reversed equal\")\n",
    "    "
   ]
  },
  {
   "cell_type": "code",
   "execution_count": 81,
   "id": "4a0feb7b-4c60-401e-a7c9-73a87cea3e0d",
   "metadata": {},
   "outputs": [
    {
     "name": "stdin",
     "output_type": "stream",
     "text": [
      "Enter the age ram:  12\n",
      "Enter the age of shaym:  56\n",
      "Enter the age of ajay :  5\n"
     ]
    },
    {
     "name": "stdout",
     "output_type": "stream",
     "text": [
      "The youngest age is :  5\n"
     ]
    }
   ],
   "source": [
    "#10. If the ages of Ram, Shyam and Ajay are input through the keyboard, write a program to\n",
    "#determine the youngest of the three\n",
    "ram_age =int(input(\"Enter the age ram: \"))\n",
    "shyam_age =int(input(\"Enter the age of shaym: \"))\n",
    "ajay_age =int(input(\"Enter the age of ajay : \"))\n",
    "\n",
    "youngest_age =min(ram_age,shyam_age,ajay_age)\n",
    "print(\"The youngest age is : \",youngest_age)"
   ]
  },
  {
   "cell_type": "code",
   "execution_count": 83,
   "id": "50bfd487-acca-40a8-a0d1-08e870cde27f",
   "metadata": {},
   "outputs": [
    {
     "name": "stdin",
     "output_type": "stream",
     "text": [
      "Enter the first angle:  45\n",
      "Enter the Second angle:  45\n",
      "Enter the Third angle:  45\n"
     ]
    },
    {
     "name": "stdout",
     "output_type": "stream",
     "text": [
      "The traingle is not valid\n"
     ]
    }
   ],
   "source": [
    "#11. Write a program to check whether a triangle is valid or not, when the three angles of\n",
    "#the triangle are entered through the keyboard. A triangle is valid if the sum of all the three\n",
    "#angles is equal to 180 degrees.\n",
    "\n",
    "side1 =int(input(\"Enter the first angle: \"))\n",
    "side2 =int(input(\"Enter the Second angle: \"))\n",
    "side3 =int(input(\"Enter the Third angle: \"))\n",
    "\n",
    "if side1+side2+side3 == 180:\n",
    "    print(\"The traingle is valid,\")\n",
    "\n",
    "else:\n",
    "    print(\"The traingle is not valid\")\n",
    "\n",
    "       \n",
    "\n"
   ]
  },
  {
   "cell_type": "code",
   "execution_count": 89,
   "id": "99f62d90-66ba-4207-9390-44660a55113f",
   "metadata": {},
   "outputs": [
    {
     "name": "stdin",
     "output_type": "stream",
     "text": [
      "Enter the number : 45\n"
     ]
    },
    {
     "name": "stdout",
     "output_type": "stream",
     "text": [
      "The absolute value is :  45\n"
     ]
    }
   ],
   "source": [
    "#12. Find the absolute value of a number entered through the keyboard\n",
    "number =int(input(\"Enter the number :\"))\n",
    "print(\"The absolute value is : \", abs(number))"
   ]
  },
  {
   "cell_type": "code",
   "execution_count": 93,
   "id": "82ad445c-fafe-4e2e-9283-c32eb8d54e3e",
   "metadata": {},
   "outputs": [
    {
     "name": "stdin",
     "output_type": "stream",
     "text": [
      "Enter the length of rectangle :  5\n",
      "Enter the bredth of rectangle :  6\n"
     ]
    },
    {
     "name": "stdout",
     "output_type": "stream",
     "text": [
      "Area is greater than perimeter.\n"
     ]
    }
   ],
   "source": [
    "##13. Given the length and breadth of a rectangle, write a program to find whether the area\n",
    "#of the rectangle is greater than its perimeter. For example, the area of the rectangle with\n",
    "#length = 5 and breadth = 4 is greater than its perimeter\n",
    "length =int(input(\"Enter the length of rectangle : \"))\n",
    "breadth = int(input(\"Enter the bredth of rectangle : \"))\n",
    "\n",
    "area = length * breadth\n",
    "perimeter =2*(length + breadth)\n",
    "\n",
    "if area > perimeter:\n",
    "    print(\"Area is greater than perimeter.\")\n",
    "else:\n",
    "    print(\"perimeter is greater than or equal to area\")"
   ]
  },
  {
   "cell_type": "code",
   "execution_count": 103,
   "id": "1a652803-888c-4a71-b42c-85d23ac8467c",
   "metadata": {},
   "outputs": [
    {
     "name": "stdin",
     "output_type": "stream",
     "text": [
      "Enter the year :  1955\n"
     ]
    },
    {
     "name": "stdout",
     "output_type": "stream",
     "text": [
      "1955 is not leap year .\n"
     ]
    }
   ],
   "source": [
    "#14. Any year is entered through the keyboard, write a program to determine whether the\n",
    "#year is leap or not. Use the logical operators && and ||.\n",
    "year =int(input(\"Enter the year : \"))\n",
    "\n",
    "if (year % 4== 0 and year % 100!=0) or(year %400 == 0):\n",
    "    print(f\"{year} is a leap year ..\")\n",
    "\n",
    "else:\n",
    "    print(f\"{year} is not leap year .\")\n"
   ]
  },
  {
   "cell_type": "code",
   "execution_count": 105,
   "id": "91c27a84-911b-460b-8fea-2f958010d87d",
   "metadata": {},
   "outputs": [
    {
     "name": "stdin",
     "output_type": "stream",
     "text": [
      "Enter hardness of steel:  40\n",
      "Enter carbon content of steel:  45\n",
      "Enter tensile strength of steel:  20\n"
     ]
    },
    {
     "name": "stdout",
     "output_type": "stream",
     "text": [
      "Grade of steel: 5\n"
     ]
    }
   ],
   "source": [
    "#15..\n",
    "hardness = float(input(\"Enter hardness of steel: \"))\n",
    "carbon_content = float(input(\"Enter carbon content of steel: \"))\n",
    "tensile_strength = float(input(\"Enter tensile strength of steel: \"))\n",
    "\n",
    "if hardness > 50 and carbon_content < 0.7 and tensile_strength > 5600:\n",
    "    grade = 10\n",
    "elif hardness > 50 and carbon_content < 0.7:\n",
    "    grade = 9\n",
    "elif carbon_content < 0.7 and tensile_strength > 5600:\n",
    "    grade = 8\n",
    "elif hardness > 50 and tensile_strength > 5600:\n",
    "    grade = 7\n",
    "elif hardness > 50 or carbon_content < 0.7 or tensile_strength > 5600:\n",
    "    grade = 6\n",
    "else:\n",
    "    grade = 5\n",
    "\n",
    "print(\"Grade of steel:\", grade)\n",
    "\n"
   ]
  },
  {
   "cell_type": "code",
   "execution_count": 107,
   "id": "89ff1d73-361f-4db3-bf3d-97d6b2d65c46",
   "metadata": {},
   "outputs": [
    {
     "name": "stdin",
     "output_type": "stream",
     "text": [
      "Enter number of days  book is late:  50\n"
     ]
    },
    {
     "name": "stdout",
     "output_type": "stream",
     "text": [
      "Membership cancelled.\n"
     ]
    },
    {
     "ename": "NameError",
     "evalue": "name 'fine' is not defined",
     "output_type": "error",
     "traceback": [
      "\u001b[1;31m---------------------------------------------------------------------------\u001b[0m",
      "\u001b[1;31mNameError\u001b[0m                                 Traceback (most recent call last)",
      "Cell \u001b[1;32mIn[107], line 18\u001b[0m\n\u001b[0;32m     15\u001b[0m \u001b[38;5;28;01melse\u001b[39;00m:\n\u001b[0;32m     16\u001b[0m     fine \u001b[38;5;241m=\u001b[39m days_late \u001b[38;5;241m*\u001b[39m \u001b[38;5;241m5.00\u001b[39m  \n\u001b[1;32m---> 18\u001b[0m \u001b[38;5;28mprint\u001b[39m(\u001b[38;5;124m\"\u001b[39m\u001b[38;5;124mFine:\u001b[39m\u001b[38;5;124m\"\u001b[39m, fine)\n",
      "\u001b[1;31mNameError\u001b[0m: name 'fine' is not defined"
     ]
    }
   ],
   "source": [
    "#16. A library charges a fine for every book returned late. For first 5 days the fine is 50\n",
    "#paise, for 6-10 days fine is one rupee and above 10 days fine is 5 rupees. If you return the\n",
    "#book after 30 days your membership will be cancelled. Write a program to accept the\n",
    "#number of days the member is late to return the book and display the fine or the\n",
    "#appropriate message.\n",
    "\n",
    "days_late = int(input(\"Enter number of days  book is late: \"))\n",
    "\n",
    "if days_late > 30:\n",
    "    print(\"Membership cancelled.\")\n",
    "elif days_late <= 5:\n",
    "    fine = days_late * 0.50  \n",
    "elif days_late <= 10:\n",
    "    fine = days_late * 1.00  \n",
    "else:\n",
    "    fine = days_late * 5.00  \n",
    "\n",
    "print(\"Fine:\", fine)\n"
   ]
  },
  {
   "cell_type": "code",
   "execution_count": 109,
   "id": "c6926baa-9130-4845-9fa7-9d28ff415581",
   "metadata": {},
   "outputs": [
    {
     "name": "stdin",
     "output_type": "stream",
     "text": [
      "Enter time taken by the worker :  5\n"
     ]
    },
    {
     "name": "stdout",
     "output_type": "stream",
     "text": [
      "Given training to improve speed\n"
     ]
    }
   ],
   "source": [
    "#17. In a company, worker efficiency is determined on the basis of the time required for a\n",
    "#worker to complete a particular job. If the time taken by the worker is between 2 – 3\n",
    "#hours, then the worker is said to be highly efficient. If the time required by the worker is\n",
    "#between 3 – 4 hours, then the worker is ordered to improve speed. If the time taken is\n",
    "#between 4 – 5 hours, the worker is given training to improve his speed, and if the time\n",
    "#taken by the worker is more than 5 hours, then the worker has to leave the company. If the\n",
    "#time taken by the worker is input through the keyboard, find the efficiency of the worker\n",
    "\n",
    "time_taken = float(input(\"Enter time taken by the worker : \"))\n",
    "\n",
    "if 2 <= time_taken <= 3:\n",
    "    print(\"Highly efficient\")\n",
    "elif 3 < time_taken <= 4:\n",
    "    print(\"Ordered to improve speed\")\n",
    "elif 4 < time_taken <= 5:\n",
    "    print(\"Given training to improve speed\")\n",
    "else:\n",
    "    print(\"Worker has to leave the company\")\n"
   ]
  },
  {
   "cell_type": "markdown",
   "id": "5f0151b2-f6fe-4151-a4a6-f75a2787314a",
   "metadata": {},
   "source": [
    "###task 3\n",
    "\n"
   ]
  },
  {
   "cell_type": "code",
   "execution_count": 28,
   "id": "9a24772d-592f-40e1-9e33-61f7e6a5d01e",
   "metadata": {},
   "outputs": [
    {
     "name": "stdin",
     "output_type": "stream",
     "text": [
      "Enter a number:  45\n"
     ]
    },
    {
     "name": "stdout",
     "output_type": "stream",
     "text": [
      "The factors of 45 are:  [1, 3, 5, 9, 15, 45]\n"
     ]
    }
   ],
   "source": [
    "#1. Write a program to find the factor of the given number.\n",
    "def factor_num(number):\n",
    "    factors =[]\n",
    "    for i in range(1,number+ 1):\n",
    "        if number % i == 0:\n",
    "            factors.append(i)\n",
    "    return factors\n",
    "\n",
    "number  =int(input(\"Enter a number: \"))\n",
    "print(f\"The factors of {number} are: \",factor_num(number))\n",
    "    "
   ]
  },
  {
   "cell_type": "code",
   "execution_count": 26,
   "id": "930cc5e1-7e70-471d-96dd-6a5f2762e18a",
   "metadata": {},
   "outputs": [
    {
     "name": "stdin",
     "output_type": "stream",
     "text": [
      "Enter a number:  45\n"
     ]
    },
    {
     "name": "stdout",
     "output_type": "stream",
     "text": [
      "The factors of 45 are: [1, 3, 5, 9, 15, 45]\n"
     ]
    }
   ],
   "source": [
    "#2. Write a program to find whether the given number is prime or not\n",
    "def is_prime(number):\n",
    "    if number <= 1:\n",
    "        return False\n",
    "    for i in range(2, int(number**0.5) + 1):\n",
    "        if number % i == 0:\n",
    "            return False\n",
    "    return True\n",
    "\n",
    "number = int(input(\"Enter a number: \"))\n",
    "if is_prime(number):\n",
    "    print(f\"{number} is a prime number.\")\n",
    "else:\n",
    "    print(f\"{number} is not a prime number.\")\n",
    "\n"
   ]
  },
  {
   "cell_type": "code",
   "execution_count": 38,
   "id": "7aa719e9-218a-49e9-8c90-fb85f7a180e0",
   "metadata": {},
   "outputs": [
    {
     "name": "stdin",
     "output_type": "stream",
     "text": [
      "Enter a number:  1634\n"
     ]
    },
    {
     "name": "stdout",
     "output_type": "stream",
     "text": [
      "1634 is an Armstrong number.\n"
     ]
    }
   ],
   "source": [
    "#3. Write a program to find the given number is Armstrong number or not.\n",
    "def armstrong(number):\n",
    "    num_str = str(number)\n",
    "    num_digits = len(num_str)\n",
    "    sum_of_powers = sum(int(digit) ** num_digits for digit in num_str)\n",
    "    return sum_of_powers == number\n",
    "\n",
    "number = int(input(\"Enter a number: \"))\n",
    "if armstrong(number):\n",
    "    print(f\"{number} is an Armstrong number.\")\n",
    "else:\n",
    "    print(f\"{number} is not an Armstrong number.\")\n"
   ]
  },
  {
   "cell_type": "code",
   "execution_count": 40,
   "id": "632b91ca-08be-44ee-b0cb-e529a632eaaf",
   "metadata": {},
   "outputs": [
    {
     "name": "stdout",
     "output_type": "stream",
     "text": [
      "Armstrong numbers between 100 and 999:\n",
      "153\n",
      "370\n",
      "371\n",
      "407\n"
     ]
    }
   ],
   "source": [
    "#4. Write a program to print the Armstrong numbers between 100 to 999.\n",
    "def armstrong(number):\n",
    "    num_str = str(number)\n",
    "    num_digits = len(num_str)\n",
    "    sum_of_powers = sum(int(digit) ** num_digits for digit in num_str)\n",
    "    return sum_of_powers == number\n",
    "\n",
    "print(\"Armstrong numbers between 100 and 999:\")\n",
    "for num in range(100, 1000):\n",
    "    if armstrong(num):\n",
    "        print(num)\n"
   ]
  },
  {
   "cell_type": "code",
   "execution_count": 42,
   "id": "0bf4b9d5-b2b6-47f9-8ac8-96fcde408b2e",
   "metadata": {},
   "outputs": [
    {
     "name": "stdin",
     "output_type": "stream",
     "text": [
      "Enter numbers separated by spaces:  45\n"
     ]
    },
    {
     "name": "stdout",
     "output_type": "stream",
     "text": [
      "Odd numbers count: 1\n",
      "Even numbers count: 0\n"
     ]
    }
   ],
   "source": [
    "#5. Write a program to count and print the number of odd and even numbers\n",
    "def count_odd_even(numbers):\n",
    "    odd_count = 0\n",
    "    even_count = 0\n",
    "    for num in numbers:\n",
    "        if num % 2 == 0:\n",
    "            even_count += 1\n",
    "        else:\n",
    "            odd_count += 1\n",
    "    return odd_count, even_count\n",
    "\n",
    "numbers = [int(x) for x in input(\"Enter numbers separated by spaces: \").split()]\n",
    "odd_count, even_count = count_odd_even(numbers)\n",
    "print(f\"Odd numbers count: {odd_count}\")\n",
    "print(f\"Even numbers count: {even_count}\")\n"
   ]
  },
  {
   "cell_type": "code",
   "execution_count": 44,
   "id": "193bd1b6-bc4c-4170-a6bc-bc3fa63afa96",
   "metadata": {},
   "outputs": [
    {
     "name": "stdin",
     "output_type": "stream",
     "text": [
      "Enter a number:  45\n"
     ]
    },
    {
     "name": "stdout",
     "output_type": "stream",
     "text": [
      "The reverse of 45 is 54\n"
     ]
    }
   ],
   "source": [
    "#6. Write a program to find the reverse of n digit number using While loop\n",
    "def reverse_number(number):\n",
    "    reversed_number = 0\n",
    "    while number > 0:\n",
    "        reversed_number = reversed_number * 10 + number % 10\n",
    "        number //= 10\n",
    "    return reversed_number\n",
    "\n",
    "number = int(input(\"Enter a number: \"))\n",
    "print(f\"The reverse of {number} is {reverse_number(number)}\")\n"
   ]
  },
  {
   "cell_type": "code",
   "execution_count": 46,
   "id": "4ca631e7-23fb-4363-9140-be2c5a871f3f",
   "metadata": {},
   "outputs": [
    {
     "name": "stdin",
     "output_type": "stream",
     "text": [
      "Enter a decimal number:  456\n"
     ]
    },
    {
     "name": "stdout",
     "output_type": "stream",
     "text": [
      "The binary equivalent of 456 is 111001000\n"
     ]
    }
   ],
   "source": [
    "#7. Write a program to find the binary number from given decimal number.\n",
    "\n",
    "def decimal_to_binary(decimal):\n",
    "    return bin(decimal).replace(\"0b\", \"\")\n",
    "\n",
    "decimal = int(input(\"Enter a decimal number: \"))\n",
    "print(f\"The binary equivalent of {decimal} is {decimal_to_binary(decimal)}\")\n"
   ]
  },
  {
   "cell_type": "code",
   "execution_count": 68,
   "id": "7806e1fd-93cf-4ace-95f8-4015dbad173c",
   "metadata": {},
   "outputs": [
    {
     "name": "stdin",
     "output_type": "stream",
     "text": [
      "Enter a number:  74\n"
     ]
    },
    {
     "name": "stdout",
     "output_type": "stream",
     "text": [
      "The factorial of 74 is 330788544151938641225953028221253782145683251820934971170611926835411235700971565459250872320000000000000000\n"
     ]
    }
   ],
   "source": [
    "#8. Write a program to find the decimal number from given Binary number\n",
    "def factorial(number):\n",
    "    fact = 1\n",
    "    for i in range(1, number + 1):\n",
    "        fact *= i\n",
    "    return fact\n",
    "\n",
    "number = int(input(\"Enter a number: \"))\n",
    "print(f\"The factorial of {number} is {factorial(number)}\")\n"
   ]
  },
  {
   "cell_type": "code",
   "execution_count": 66,
   "id": "f594346a-04c3-4db6-8974-984cd58e43fd",
   "metadata": {},
   "outputs": [
    {
     "name": "stdin",
     "output_type": "stream",
     "text": [
      "Enter a number:  58\n"
     ]
    },
    {
     "name": "stdout",
     "output_type": "stream",
     "text": [
      "The factorial of 58 is 2350561331282878571829474910515074683828862318181142924420699914240000000000000\n"
     ]
    }
   ],
   "source": [
    "#9. Write a program to find the factorial of the given number\n",
    "def factorial(number):\n",
    "    fact = 1\n",
    "    for i in range(1, number + 1):\n",
    "        fact *= i\n",
    "    return fact\n",
    "\n",
    "number = int(input(\"Enter a number: \"))\n",
    "print(f\"The factorial of {number} is {factorial(number)}\")\n"
   ]
  },
  {
   "cell_type": "code",
   "execution_count": 64,
   "id": "a4be7c11-62f9-461c-a0da-8bbdcee70441",
   "metadata": {},
   "outputs": [
    {
     "name": "stdin",
     "output_type": "stream",
     "text": [
      "Enter the number of terms:  41\n"
     ]
    },
    {
     "name": "stdout",
     "output_type": "stream",
     "text": [
      "The Fibonacci series of 41 terms is: [0, 1, 1, 2, 3, 5, 8, 13, 21, 34, 55, 89, 144, 233, 377, 610, 987, 1597, 2584, 4181, 6765, 10946, 17711, 28657, 46368, 75025, 121393, 196418, 317811, 514229, 832040, 1346269, 2178309, 3524578, 5702887, 9227465, 14930352, 24157817, 39088169, 63245986, 102334155]\n"
     ]
    }
   ],
   "source": [
    "#10. Write a program to find the Fibonacci Series of the given number\n",
    "def fibonacci(n):\n",
    "    fib_series = [0, 1]\n",
    "    while len(fib_series) < n:\n",
    "        fib_series.append(fib_series[-1] + fib_series[-2])\n",
    "    return fib_series\n",
    "\n",
    "n = int(input(\"Enter the number of terms: \"))\n",
    "print(f\"The Fibonacci series of {n} terms is:\", fibonacci(n))\n"
   ]
  },
  {
   "cell_type": "code",
   "execution_count": 62,
   "id": "3d00f449-2cf9-4039-bd9b-0ca1f7814c76",
   "metadata": {},
   "outputs": [
    {
     "name": "stdin",
     "output_type": "stream",
     "text": [
      "Enter a number:  55\n"
     ]
    },
    {
     "name": "stdout",
     "output_type": "stream",
     "text": [
      "55 is not a perfect number.\n"
     ]
    }
   ],
   "source": [
    "#11. Write a program to find the given number is perfect number\n",
    "def is_perfect(number):\n",
    "    divisors_sum = sum(i for i in range(1, number) if number % i == 0)\n",
    "    return divisors_sum == number\n",
    "\n",
    "number = int(input(\"Enter a number: \"))\n",
    "if is_perfect(number):\n",
    "    print(f\"{number} is a perfect number.\")\n",
    "else:\n",
    "    print(f\"{number} is not a perfect number.\")\n"
   ]
  },
  {
   "cell_type": "code",
   "execution_count": 60,
   "id": "9045cdeb-2387-4259-bb59-06712c242bb7",
   "metadata": {},
   "outputs": [
    {
     "name": "stdout",
     "output_type": "stream",
     "text": [
      "Perfect numbers between 1 and 1000:\n",
      "6\n",
      "28\n",
      "496\n"
     ]
    }
   ],
   "source": [
    "#12. Write a program to print the perfect number between 1-1000\n",
    "def is_perfect(number):\n",
    "    divisors_sum = sum(i for i in range(1, number) if number % i == 0)\n",
    "    return divisors_sum == number\n",
    "\n",
    "print(\"Perfect numbers between 1 and 1000:\")\n",
    "for num in range(1, 1001):\n",
    "    if is_perfect(num):\n",
    "        print(num)\n"
   ]
  },
  {
   "cell_type": "code",
   "execution_count": 74,
   "id": "cc534d2a-a997-49b3-9ba6-59c804ad6e2d",
   "metadata": {},
   "outputs": [
    {
     "name": "stdin",
     "output_type": "stream",
     "text": [
      "Enter a number:  45\n"
     ]
    },
    {
     "name": "stdout",
     "output_type": "stream",
     "text": [
      "45 is not a strong number.\n"
     ]
    }
   ],
   "source": [
    "#13. Write a program to find the given number is strong number\n",
    "from math import factorial\n",
    "\n",
    "def is_strong(number):\n",
    "    num_str = str(number)\n",
    "    sum_of_factorials = sum(factorial(int(digit)) for digit in num_str)\n",
    "    return sum_of_factorials == number\n",
    "\n",
    "number = int(input(\"Enter a number: \"))\n",
    "if is_strong(number):\n",
    "    print(f\"{number} is a strong number.\")\n",
    "else:\n",
    "    print(f\"{number} is not a strong number.\")\n"
   ]
  },
  {
   "cell_type": "code",
   "execution_count": 48,
   "id": "bf2f9a5e-a14b-40ad-ad42-d2c8371515f1",
   "metadata": {},
   "outputs": [
    {
     "name": "stdin",
     "output_type": "stream",
     "text": [
      "Enter the base number:  4\n",
      "Enter the exponent:  8\n"
     ]
    },
    {
     "name": "stdout",
     "output_type": "stream",
     "text": [
      "The value of 4 raised to the power of 8 is 65536\n"
     ]
    }
   ],
   "source": [
    "#14. Two numbers are entered through the keyboard. Write a program to find the value of\n",
    "#one number raised to the power of anothe\n",
    "\n",
    "def power(base, exponent):\n",
    "    return base ** exponent\n",
    "\n",
    "base = int(input(\"Enter the base number: \"))\n",
    "exponent = int(input(\"Enter the exponent: \"))\n",
    "print(f\"The value of {base} raised to the power of {exponent} is {power(base, exponent)}\")\n"
   ]
  },
  {
   "cell_type": "code",
   "execution_count": null,
   "id": "e58e6047-8ae1-49fc-a434-2501c438e44c",
   "metadata": {},
   "outputs": [],
   "source": []
  }
 ],
 "metadata": {
  "kernelspec": {
   "display_name": "Python [conda env:base] *",
   "language": "python",
   "name": "conda-base-py"
  },
  "language_info": {
   "codemirror_mode": {
    "name": "ipython",
    "version": 3
   },
   "file_extension": ".py",
   "mimetype": "text/x-python",
   "name": "python",
   "nbconvert_exporter": "python",
   "pygments_lexer": "ipython3",
   "version": "3.12.7"
  }
 },
 "nbformat": 4,
 "nbformat_minor": 5
}
